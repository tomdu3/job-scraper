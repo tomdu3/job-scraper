{
 "cells": [
  {
   "cell_type": "code",
   "execution_count": 54,
   "metadata": {},
   "outputs": [],
   "source": [
    "# Import libraries\n",
    "from selenium import webdriver\n",
    "import time\n",
    "import pandas as pd\n",
    "import os\n",
    "from dotenv import load_dotenv\n",
    "\n",
    "from selenium.webdriver.support.select import Select\n",
    "from selenium.webdriver.support.ui import WebDriverWait\n",
    "from selenium.webdriver.support import expected_conditions as EC\n",
    "from selenium.webdriver.common.by import By"
   ]
  },
  {
   "cell_type": "code",
   "execution_count": 55,
   "metadata": {},
   "outputs": [
    {
     "name": "stdout",
     "output_type": "stream",
     "text": [
      "tomdu3@ymail.com 19Tom!78\n"
     ]
    }
   ],
   "source": [
    "load_dotenv()\n",
    "SESSION_KEY=os.getenv(\"SESSION_KEY\")\n",
    "SESSION_PASSWORD=os.getenv(\"SESSION_PASSWORD\")\n",
    "base_url=\"https://www.linkedin.com/\"\n",
    "url=\"https://www.linkedin.com/jobs/search/?currentJobId=4076620861&geoId=90009496&keywords=software%20developer&origin=JOBS_HOME_SEARCH_BUTTON&refresh=true\"\n",
    "\n",
    "print(SESSION_KEY, SESSION_PASSWORD)"
   ]
  },
  {
   "cell_type": "code",
   "execution_count": 57,
   "metadata": {},
   "outputs": [],
   "source": [
    "driver = webdriver.Chrome()\n",
    "driver.get(base_url)\n",
    "time.sleep(2)\n",
    "\n",
    "# reload page\n",
    "driver.refresh()\n",
    "time.sleep(1)\n",
    "\n",
    "\n",
    "# close modal if present\n",
    "try:\n",
    "#     # button selector: aria-label=\"Dismiss\"\n",
    "#     driver.find_element(By.XPATH, \"//button[contains(text(), 'Dismiss')]\").click()\n",
    "# go to sign in: whatever element with text \"Sign in\"\n",
    "    sign_in_button = WebDriverWait(driver, 10).until(\n",
    "    EC.element_to_be_clickable((By.XPATH, \"//a[contains(text(), 'Sign in')]\")))\n",
    "    sign_in_button.click()\n",
    "    time.sleep(3)\n",
    "except:\n",
    "    pass\n",
    "\n",
    "# accept cookies: data-control-name=\"ga-cookie.consent.accept.v4\"\n",
    "driver.find_element(By.XPATH, \"//button[contains(text(), 'Accept')]\").click()\n",
    "time.sleep(3)\n",
    "\n",
    "# Login to LinkedIn\n",
    "driver.find_element(By.XPATH, \"//input[@name='session_key']\").send_keys(SESSION_KEY)\n",
    "driver.find_element(By.XPATH, \"//input[@name='session_password']\").send_keys(SESSION_PASSWORD)\n",
    "driver.find_element(By.XPATH, \"//button[@type='submit']\").click()\n",
    "time.sleep(3)\n"
   ]
  },
  {
   "cell_type": "code",
   "execution_count": 58,
   "metadata": {},
   "outputs": [],
   "source": [
    "driver.get(url)\n",
    "time.sleep(3)"
   ]
  },
  {
   "cell_type": "code",
   "execution_count": null,
   "metadata": {},
   "outputs": [],
   "source": []
  }
 ],
 "metadata": {
  "kernelspec": {
   "display_name": "venv",
   "language": "python",
   "name": "python3"
  },
  "language_info": {
   "codemirror_mode": {
    "name": "ipython",
    "version": 3
   },
   "file_extension": ".py",
   "mimetype": "text/x-python",
   "name": "python",
   "nbconvert_exporter": "python",
   "pygments_lexer": "ipython3",
   "version": "3.13.0"
  }
 },
 "nbformat": 4,
 "nbformat_minor": 2
}
